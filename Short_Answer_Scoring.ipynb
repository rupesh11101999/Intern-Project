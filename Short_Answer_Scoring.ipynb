{
  "nbformat": 4,
  "nbformat_minor": 0,
  "metadata": {
    "colab": {
      "name": "Short Answer Scoring.ipynb",
      "provenance": [],
      "collapsed_sections": [
        "yt_LkJRqIoDA"
      ]
    },
    "kernelspec": {
      "name": "python3",
      "display_name": "Python 3"
    }
  },
  "cells": [
    {
      "cell_type": "markdown",
      "metadata": {
        "id": "uWIxWnGAQYQe",
        "colab_type": "text"
      },
      "source": [
        "# **Rule based Matching**"
      ]
    },
    {
      "cell_type": "markdown",
      "metadata": {
        "id": "8CUMSrVdXGuu",
        "colab_type": "text"
      },
      "source": [
        "This implementation handles only basic cases. For more complicated matching, more comlplicated rules needs to be created which requires in-depth knowledge of English grammar and relationaships between different dependencies in a sentence."
      ]
    },
    {
      "cell_type": "code",
      "metadata": {
        "id": "0b3oOEsq9ecm",
        "colab_type": "code",
        "colab": {}
      },
      "source": [
        "!python -m spacy download en_core_web_lg"
      ],
      "execution_count": null,
      "outputs": []
    },
    {
      "cell_type": "code",
      "metadata": {
        "id": "JbKVFyIX9hHH",
        "colab_type": "code",
        "colab": {}
      },
      "source": [
        "import spacy\n",
        "nlp = spacy.load('en_core_web_lg')"
      ],
      "execution_count": null,
      "outputs": []
    },
    {
      "cell_type": "code",
      "metadata": {
        "colab_type": "code",
        "id": "UNloez_FjjdP",
        "colab": {
          "base_uri": "https://localhost:8080/",
          "height": 68
        },
        "outputId": "51052b42-71c2-439a-d3b2-c0a1254d7555"
      },
      "source": [
        "import nltk\n",
        "nltk.download('wordnet')"
      ],
      "execution_count": null,
      "outputs": [
        {
          "output_type": "stream",
          "text": [
            "[nltk_data] Downloading package wordnet to /root/nltk_data...\n",
            "[nltk_data]   Unzipping corpora/wordnet.zip.\n"
          ],
          "name": "stdout"
        },
        {
          "output_type": "execute_result",
          "data": {
            "text/plain": [
              "True"
            ]
          },
          "metadata": {
            "tags": []
          },
          "execution_count": 2
        }
      ]
    },
    {
      "cell_type": "code",
      "metadata": {
        "id": "chjsZybbFXZk",
        "colab_type": "code",
        "colab": {}
      },
      "source": [
        "from nltk.corpus import wordnet as wn"
      ],
      "execution_count": null,
      "outputs": []
    },
    {
      "cell_type": "code",
      "metadata": {
        "id": "TH5YHukpP86l",
        "colab_type": "code",
        "colab": {}
      },
      "source": [
        "#text1 = \"To simulate the behaviour of portions of the desired software product\"\n",
        "#text2 = \"To simulate portions of the desired final product\"\n",
        "#Output: 0.6401728588077857\n",
        "\n",
        "#text1 = \"He has tons of stuff to throw away\"\n",
        "#text2 = \"He needs to get rid of a lot of junk\"\n",
        "#Output: 0.5047788208129395"
      ],
      "execution_count": null,
      "outputs": []
    },
    {
      "cell_type": "markdown",
      "metadata": {
        "id": "eQGbkl3QYCDa",
        "colab_type": "text"
      },
      "source": [
        "### **Cases which it can handle:**"
      ]
    },
    {
      "cell_type": "markdown",
      "metadata": {
        "id": "zC2zqO15Yv8M",
        "colab_type": "text"
      },
      "source": [
        "**Synonyms**"
      ]
    },
    {
      "cell_type": "code",
      "metadata": {
        "id": "lWCkk5_YYvYE",
        "colab_type": "code",
        "colab": {}
      },
      "source": [
        "text1 = \"they persuaded her to confess her fault\"\n",
        "text2 = \"they convinced her to admit her mistake\"\n",
        "#Output: 0.7983233482666816"
      ],
      "execution_count": null,
      "outputs": []
    },
    {
      "cell_type": "markdown",
      "metadata": {
        "id": "1E4tLgZOY6Tb",
        "colab_type": "text"
      },
      "source": [
        "**Antonyms**"
      ]
    },
    {
      "cell_type": "markdown",
      "metadata": {
        "id": "O3GjMt0V9UGo",
        "colab_type": "text"
      },
      "source": [
        "There are 2 ways in which an antonym may affect the meaning of a sentence. Either it may completely change the meaning of the sentence, for eg., \"she loves you\", \"she hates you\". Or it just changes the meaning of some portion of the sentence as shown below."
      ]
    },
    {
      "cell_type": "code",
      "metadata": {
        "id": "KEbcFKuPY-6U",
        "colab_type": "code",
        "colab": {}
      },
      "source": [
        "text1 = \"tigers are carnivores which hunt in night\"\n",
        "text2 = \"tigers are carnivores which hunt in day\"\n",
        "#Output: 0.8"
      ],
      "execution_count": null,
      "outputs": []
    },
    {
      "cell_type": "markdown",
      "metadata": {
        "id": "WGLsnKfsYQrT",
        "colab_type": "text"
      },
      "source": [
        "**Simple Active-Passive Voice**"
      ]
    },
    {
      "cell_type": "code",
      "metadata": {
        "id": "kwxBE4_EX4AM",
        "colab_type": "code",
        "colab": {}
      },
      "source": [
        "text1 = \"children are plucking flowers in the park\"\n",
        "text2 = \"flowers are being plucked in the park by children\"\n",
        "#Output: 1.0"
      ],
      "execution_count": null,
      "outputs": []
    },
    {
      "cell_type": "code",
      "metadata": {
        "id": "B2do5b5Ic4Xr",
        "colab_type": "code",
        "colab": {}
      },
      "source": [
        "text1 = \"we are going to watch a movie\"\n",
        "text2 = \"a movie is going to be watched by us\"\n",
        "#Output: 1.0"
      ],
      "execution_count": null,
      "outputs": []
    },
    {
      "cell_type": "markdown",
      "metadata": {
        "id": "Rm-fzqhsYYuk",
        "colab_type": "text"
      },
      "source": [
        "**Negation Sentences**"
      ]
    },
    {
      "cell_type": "markdown",
      "metadata": {
        "id": "R09qoaD_aygS",
        "colab_type": "text"
      },
      "source": [
        "If we have found opposite sentences in the sense of negation, we have assigned a low score for that answer."
      ]
    },
    {
      "cell_type": "code",
      "metadata": {
        "id": "BFrkFVNhYozk",
        "colab_type": "code",
        "colab": {}
      },
      "source": [
        "text1 = \"technology is not harmful to human beings\"\n",
        "text2 = \"technology is harmful to human beings\"\n",
        "#Output: 0.2"
      ],
      "execution_count": null,
      "outputs": []
    },
    {
      "cell_type": "markdown",
      "metadata": {
        "id": "b8Z7fBh7YpcT",
        "colab_type": "text"
      },
      "source": [
        "**Conjunctions**"
      ]
    },
    {
      "cell_type": "code",
      "metadata": {
        "id": "96wRWYgd7st7",
        "colab_type": "code",
        "colab": {}
      },
      "source": [
        "text1 = \"it is a form of technology that uses telecommunication and computer systems for study\"\n",
        "text2 = \"it is a form of technology that uses computer and telecommunication systems for study\"\n",
        "#Output: 0.9714285714285714"
      ],
      "execution_count": null,
      "outputs": []
    },
    {
      "cell_type": "code",
      "metadata": {
        "id": "ocMp9HU0fvHH",
        "colab_type": "code",
        "colab": {}
      },
      "source": [
        "text1 = \"we have apples, pears and oranges\"\n",
        "text2 = \"we have oranges, apples and pears\"\n",
        "#Output: 0.9"
      ],
      "execution_count": null,
      "outputs": []
    },
    {
      "cell_type": "markdown",
      "metadata": {
        "id": "ZU6UnpLUkILJ",
        "colab_type": "text"
      },
      "source": [
        "One thing to notice here is that if the order of things matter then, we cannot detect those. This is the limitation of rule-based approach. One rule working fine for one type may fail if some other kind of variation is considered."
      ]
    },
    {
      "cell_type": "code",
      "metadata": {
        "id": "GvL4Vo6FdKXi",
        "colab_type": "code",
        "colab": {}
      },
      "source": [
        "text1 = \"he came home, took a shower and went to bed\"\n",
        "text2 = \"he came home, went to bed and took a shower\"\n",
        "#Output: 0.9666666666666667"
      ],
      "execution_count": null,
      "outputs": []
    },
    {
      "cell_type": "markdown",
      "metadata": {
        "id": "FUQ5jG30cSWb",
        "colab_type": "text"
      },
      "source": [
        "**It detects some wrong answers of type given below:**"
      ]
    },
    {
      "cell_type": "code",
      "metadata": {
        "id": "P4JaD8NDfMi7",
        "colab_type": "code",
        "colab": {}
      },
      "source": [
        "text1 = \"man killed a dog\"\n",
        "text2 = \"dog killed a man\"\n",
        "#Output: 0.3333333333333333"
      ],
      "execution_count": null,
      "outputs": []
    },
    {
      "cell_type": "markdown",
      "metadata": {
        "id": "j-VC-PIoldsr",
        "colab_type": "text"
      },
      "source": [
        "Even if order is wrong, if more words are having correct orders, then it may give wrong results. But we manage these side cases."
      ]
    },
    {
      "cell_type": "code",
      "metadata": {
        "id": "VMsDDDqncS_h",
        "colab_type": "code",
        "colab": {}
      },
      "source": [
        "text1 = \"many people are being taken hostages by the terrorists\"\n",
        "text2 = \"many terrorists are being taken hostages by the people\"\n",
        "#Output: 0.3333333333333333"
      ],
      "execution_count": null,
      "outputs": []
    },
    {
      "cell_type": "markdown",
      "metadata": {
        "id": "hLCYcl6ggNzy",
        "colab_type": "text"
      },
      "source": [
        "### **Cases for which it fails**"
      ]
    },
    {
      "cell_type": "code",
      "metadata": {
        "id": "fJGNuXN0hQM5",
        "colab_type": "code",
        "colab": {}
      },
      "source": [
        "text1 = \"the price of a resort vacation includes meals, tips and equipment rentals, which makes your trip more cost-effective\"\n",
        "text2 = \"all-inclusive resort vacations can make for an economical trip\"\n",
        "#Output: 0.239099710501727"
      ],
      "execution_count": null,
      "outputs": []
    },
    {
      "cell_type": "code",
      "metadata": {
        "id": "nnmvxlMQn6Pb",
        "colab_type": "code",
        "colab": {}
      },
      "source": [
        "text1 = \"israel was established in 1979\"\n",
        "text2 = \"The national institute for psychobiology in israel was established in 1979\"\n",
        "#Output: 0.6666666666666666"
      ],
      "execution_count": null,
      "outputs": []
    },
    {
      "cell_type": "markdown",
      "metadata": {
        "id": "cp40m2WfidYU",
        "colab_type": "text"
      },
      "source": [
        "### **Code**"
      ]
    },
    {
      "cell_type": "code",
      "metadata": {
        "id": "-enkXbgOOZfl",
        "colab_type": "code",
        "colab": {}
      },
      "source": [
        "doc1 = nlp(text1)\n",
        "doc2 = nlp(text2)"
      ],
      "execution_count": null,
      "outputs": []
    },
    {
      "cell_type": "code",
      "metadata": {
        "id": "g1-r3y0EZu5n",
        "colab_type": "code",
        "colab": {
          "base_uri": "https://localhost:8080/",
          "height": 51
        },
        "outputId": "3bfb1ba4-3a72-4192-879a-90b94a12859d"
      },
      "source": [
        "doc1_p = [t for t in doc1 if not t.is_stop and not t.is_punct]\n",
        "doc2_p = [t for t in doc2 if not t.is_stop and not t.is_punct]\n",
        "print(doc1_p)\n",
        "print(doc2_p)"
      ],
      "execution_count": null,
      "outputs": [
        {
          "output_type": "stream",
          "text": [
            "[simulate, behaviour, portions, desired, software, product]\n",
            "[simulate, portions, desired, final, product]\n"
          ],
          "name": "stdout"
        }
      ]
    },
    {
      "cell_type": "code",
      "metadata": {
        "id": "FlP2agP3YvSk",
        "colab_type": "code",
        "colab": {
          "base_uri": "https://localhost:8080/",
          "height": 51
        },
        "outputId": "46d11af2-813f-4374-cfe1-d3a3841d733a"
      },
      "source": [
        "v_similarities = {}\n",
        "matches = {}\n",
        "for token1 in doc1_p:\n",
        "    max_sim = 0\n",
        "    for token2 in doc2_p:\n",
        "        lemma1 = nlp(token1.lemma_)\n",
        "        lemma2 = nlp(token2.lemma_)\n",
        "        sim = lemma1.similarity(lemma2)\n",
        "        if sim > max_sim:\n",
        "            max_sim = sim\n",
        "            v_similarities[token1] = sim\n",
        "            matches[token1] = token2\n",
        "\n",
        "print(v_similarities)\n",
        "print(matches)"
      ],
      "execution_count": null,
      "outputs": [
        {
          "output_type": "stream",
          "text": [
            "{simulate: 1.0, behaviour: 0.3336149453173265, portions: 1.0, desired: 1.0, software: 0.4676814957410669, product: 1.0}\n",
            "{simulate: simulate, behaviour: desired, portions: portions, desired: desired, software: product, product: product}\n"
          ],
          "name": "stdout"
        }
      ]
    },
    {
      "cell_type": "code",
      "metadata": {
        "id": "wpXh2ErB8Wsw",
        "colab_type": "code",
        "colab": {}
      },
      "source": [
        "def synoFunc(word):\n",
        "    synonyms = []\n",
        "    for syn in wn.synsets(word):\n",
        "        for l in syn.lemmas():\n",
        "            synonyms.append(l.name())\n",
        "    return synonyms"
      ],
      "execution_count": null,
      "outputs": []
    },
    {
      "cell_type": "code",
      "metadata": {
        "id": "dPQ3RdvXNe0O",
        "colab_type": "code",
        "colab": {}
      },
      "source": [
        "def antoFunc(word):\n",
        "    antonyms = []\n",
        "    for syn in wn.synsets(word):\n",
        "        for l in syn.lemmas():\n",
        "            if l.antonyms():\n",
        "                antonyms.append(l.antonyms()[0].name())\n",
        "    return antonyms"
      ],
      "execution_count": null,
      "outputs": []
    },
    {
      "cell_type": "code",
      "metadata": {
        "id": "573kN9JahoT7",
        "colab_type": "code",
        "colab": {}
      },
      "source": [
        "def hyperFunc(word):\n",
        "    hypernyms = []\n",
        "    synset = wn.synsets(word)[0]\n",
        "    for hyper in synset.hypernyms():\n",
        "        hypernyms.append(hyper.lemmas()[0].name())\n",
        "    return hypernyms"
      ],
      "execution_count": null,
      "outputs": []
    },
    {
      "cell_type": "code",
      "metadata": {
        "id": "eQb2GxAkgdKJ",
        "colab_type": "code",
        "colab": {}
      },
      "source": [
        "def hypoFunc(word):\n",
        "    hyponyms = []\n",
        "    synset = wn.synsets(word)[0]\n",
        "    for hypo in synset.hyponyms():\n",
        "        hyponyms.append(hypo.lemmas()[0].name())\n",
        "    return hyponyms"
      ],
      "execution_count": null,
      "outputs": []
    },
    {
      "cell_type": "code",
      "metadata": {
        "id": "jAnj1UMEh9-7",
        "colab_type": "code",
        "colab": {}
      },
      "source": [
        "def holoFunc(word):\n",
        "    holonyms = []\n",
        "    synset = wn.synsets(word)[0]\n",
        "    for holo in synset.part_holonyms():\n",
        "        holonyms.append(holo.lemmas()[0].name())\n",
        "    for holo in synset.substance_holonyms():\n",
        "        holonyms.append(holo.lemmas()[0].name())\n",
        "    return holonyms"
      ],
      "execution_count": null,
      "outputs": []
    },
    {
      "cell_type": "code",
      "metadata": {
        "id": "3OTJJc5Hnizx",
        "colab_type": "code",
        "colab": {}
      },
      "source": [
        "def meroFunc(word):\n",
        "    meronyms = []\n",
        "    synset = wn.synsets(word)[0]\n",
        "    for mero in synset.part_meronyms():\n",
        "        meronyms.append(mero.lemmas()[0].name())\n",
        "    for mero in synset.substance_meronyms():\n",
        "        meronyms.append(mero.lemmas()[0].name())\n",
        "    return meronyms"
      ],
      "execution_count": null,
      "outputs": []
    },
    {
      "cell_type": "code",
      "metadata": {
        "id": "qFM7zU3rReqa",
        "colab_type": "code",
        "colab": {}
      },
      "source": [
        "SYNONYM = 0.8\n",
        "HYPERNYM = 0.7\n",
        "HYPONYM = 0.6\n",
        "HOLONYM = 0.5\n",
        "MERONYM = 0.4\n",
        "ANTONYM = 0.2"
      ],
      "execution_count": null,
      "outputs": []
    },
    {
      "cell_type": "code",
      "metadata": {
        "id": "Wakro_kuGf_n",
        "colab_type": "code",
        "colab": {
          "base_uri": "https://localhost:8080/",
          "height": 34
        },
        "outputId": "6385b2a6-ef30-47ca-c8de-ebe57184b18a"
      },
      "source": [
        "for word in doc1_p:\n",
        "    word1 = word.lemma_\n",
        "    word2 = matches[word].lemma_\n",
        "    match_count = 0\n",
        "    score_count = 0\n",
        "\n",
        "    if v_similarities[word] == 1.0:\n",
        "        continue\n",
        "\n",
        "    if word2 in antoFunc(word1):\n",
        "        v_similarities[word] = ANTONYM\n",
        "        continue\n",
        "\n",
        "    if word2 in synoFunc(word1):\n",
        "        score_count += SYNONYM\n",
        "        match_count += 1\n",
        "    \n",
        "    if word2 in hyperFunc(word1):\n",
        "        score_count += HYPERNYM\n",
        "        match_count += 1\n",
        "\n",
        "    if word2 in hypoFunc(word1):\n",
        "        score_count += HYPONYM\n",
        "        match_count += 1\n",
        "\n",
        "    if word2 in holoFunc(word1):\n",
        "        score_count += HOLONYM\n",
        "        match_count += 1\n",
        "\n",
        "    if word2 in meroFunc(word1):\n",
        "        score_count += MERONYM\n",
        "        match_count += 1\n",
        "\n",
        "    if match_count:\n",
        "        v_similarities[word] = score_count / match_count\n",
        "\n",
        "v_score = sum(v_similarities.values()) / len(v_similarities)\n",
        "#print(v_score)\n",
        "print(v_similarities)"
      ],
      "execution_count": null,
      "outputs": [
        {
          "output_type": "stream",
          "text": [
            "{simulate: 1.0, behaviour: 0.3336149453173265, portions: 1.0, desired: 1.0, software: 0.4676814957410669, product: 1.0}\n"
          ],
          "name": "stdout"
        }
      ]
    },
    {
      "cell_type": "markdown",
      "metadata": {
        "id": "yt_LkJRqIoDA",
        "colab_type": "text"
      },
      "source": [
        "## **Visualization**"
      ]
    },
    {
      "cell_type": "code",
      "metadata": {
        "id": "yfA5XcHebl3D",
        "colab_type": "code",
        "colab": {
          "base_uri": "https://localhost:8080/"
        },
        "outputId": "8b792a6b-ee91-4b43-febf-8129f29f0dc0"
      },
      "source": [
        "from spacy import displacy\n",
        "\n",
        "displacy.render(doc1, style='dep', jupyter=True, options={'distance': 115})\n",
        "displacy.render(doc2, style='dep', jupyter=True, options={'distance': 115})"
      ],
      "execution_count": null,
      "outputs": [
        {
          "output_type": "display_data",
          "data": {
            "text/html": [
              "<span class=\"tex2jax_ignore\"><svg xmlns=\"http://www.w3.org/2000/svg\" xmlns:xlink=\"http://www.w3.org/1999/xlink\" xml:lang=\"en\" id=\"9861c2438dec4f03af2c93ac67b229fd-0\" class=\"displacy\" width=\"1315\" height=\"367.0\" direction=\"ltr\" style=\"max-width: none; height: 367.0px; color: #000000; background: #ffffff; font-family: Arial; direction: ltr\">\n",
              "<text class=\"displacy-token\" fill=\"currentColor\" text-anchor=\"middle\" y=\"277.0\">\n",
              "    <tspan class=\"displacy-word\" fill=\"currentColor\" x=\"50\">To</tspan>\n",
              "    <tspan class=\"displacy-tag\" dy=\"2em\" fill=\"currentColor\" x=\"50\">PART</tspan>\n",
              "</text>\n",
              "\n",
              "<text class=\"displacy-token\" fill=\"currentColor\" text-anchor=\"middle\" y=\"277.0\">\n",
              "    <tspan class=\"displacy-word\" fill=\"currentColor\" x=\"165\">simulate</tspan>\n",
              "    <tspan class=\"displacy-tag\" dy=\"2em\" fill=\"currentColor\" x=\"165\">VERB</tspan>\n",
              "</text>\n",
              "\n",
              "<text class=\"displacy-token\" fill=\"currentColor\" text-anchor=\"middle\" y=\"277.0\">\n",
              "    <tspan class=\"displacy-word\" fill=\"currentColor\" x=\"280\">the</tspan>\n",
              "    <tspan class=\"displacy-tag\" dy=\"2em\" fill=\"currentColor\" x=\"280\">DET</tspan>\n",
              "</text>\n",
              "\n",
              "<text class=\"displacy-token\" fill=\"currentColor\" text-anchor=\"middle\" y=\"277.0\">\n",
              "    <tspan class=\"displacy-word\" fill=\"currentColor\" x=\"395\">behaviour</tspan>\n",
              "    <tspan class=\"displacy-tag\" dy=\"2em\" fill=\"currentColor\" x=\"395\">NOUN</tspan>\n",
              "</text>\n",
              "\n",
              "<text class=\"displacy-token\" fill=\"currentColor\" text-anchor=\"middle\" y=\"277.0\">\n",
              "    <tspan class=\"displacy-word\" fill=\"currentColor\" x=\"510\">of</tspan>\n",
              "    <tspan class=\"displacy-tag\" dy=\"2em\" fill=\"currentColor\" x=\"510\">ADP</tspan>\n",
              "</text>\n",
              "\n",
              "<text class=\"displacy-token\" fill=\"currentColor\" text-anchor=\"middle\" y=\"277.0\">\n",
              "    <tspan class=\"displacy-word\" fill=\"currentColor\" x=\"625\">portions</tspan>\n",
              "    <tspan class=\"displacy-tag\" dy=\"2em\" fill=\"currentColor\" x=\"625\">NOUN</tspan>\n",
              "</text>\n",
              "\n",
              "<text class=\"displacy-token\" fill=\"currentColor\" text-anchor=\"middle\" y=\"277.0\">\n",
              "    <tspan class=\"displacy-word\" fill=\"currentColor\" x=\"740\">of</tspan>\n",
              "    <tspan class=\"displacy-tag\" dy=\"2em\" fill=\"currentColor\" x=\"740\">ADP</tspan>\n",
              "</text>\n",
              "\n",
              "<text class=\"displacy-token\" fill=\"currentColor\" text-anchor=\"middle\" y=\"277.0\">\n",
              "    <tspan class=\"displacy-word\" fill=\"currentColor\" x=\"855\">the</tspan>\n",
              "    <tspan class=\"displacy-tag\" dy=\"2em\" fill=\"currentColor\" x=\"855\">DET</tspan>\n",
              "</text>\n",
              "\n",
              "<text class=\"displacy-token\" fill=\"currentColor\" text-anchor=\"middle\" y=\"277.0\">\n",
              "    <tspan class=\"displacy-word\" fill=\"currentColor\" x=\"970\">desired</tspan>\n",
              "    <tspan class=\"displacy-tag\" dy=\"2em\" fill=\"currentColor\" x=\"970\">VERB</tspan>\n",
              "</text>\n",
              "\n",
              "<text class=\"displacy-token\" fill=\"currentColor\" text-anchor=\"middle\" y=\"277.0\">\n",
              "    <tspan class=\"displacy-word\" fill=\"currentColor\" x=\"1085\">software</tspan>\n",
              "    <tspan class=\"displacy-tag\" dy=\"2em\" fill=\"currentColor\" x=\"1085\">NOUN</tspan>\n",
              "</text>\n",
              "\n",
              "<text class=\"displacy-token\" fill=\"currentColor\" text-anchor=\"middle\" y=\"277.0\">\n",
              "    <tspan class=\"displacy-word\" fill=\"currentColor\" x=\"1200\">product</tspan>\n",
              "    <tspan class=\"displacy-tag\" dy=\"2em\" fill=\"currentColor\" x=\"1200\">NOUN</tspan>\n",
              "</text>\n",
              "\n",
              "<g class=\"displacy-arrow\">\n",
              "    <path class=\"displacy-arc\" id=\"arrow-9861c2438dec4f03af2c93ac67b229fd-0-0\" stroke-width=\"2px\" d=\"M70,232.0 C70,174.5 150.0,174.5 150.0,232.0\" fill=\"none\" stroke=\"currentColor\"/>\n",
              "    <text dy=\"1.25em\" style=\"font-size: 0.8em; letter-spacing: 1px\">\n",
              "        <textPath xlink:href=\"#arrow-9861c2438dec4f03af2c93ac67b229fd-0-0\" class=\"displacy-label\" startOffset=\"50%\" side=\"left\" fill=\"currentColor\" text-anchor=\"middle\">aux</textPath>\n",
              "    </text>\n",
              "    <path class=\"displacy-arrowhead\" d=\"M70,234.0 L62,222.0 78,222.0\" fill=\"currentColor\"/>\n",
              "</g>\n",
              "\n",
              "<g class=\"displacy-arrow\">\n",
              "    <path class=\"displacy-arc\" id=\"arrow-9861c2438dec4f03af2c93ac67b229fd-0-1\" stroke-width=\"2px\" d=\"M300,232.0 C300,174.5 380.0,174.5 380.0,232.0\" fill=\"none\" stroke=\"currentColor\"/>\n",
              "    <text dy=\"1.25em\" style=\"font-size: 0.8em; letter-spacing: 1px\">\n",
              "        <textPath xlink:href=\"#arrow-9861c2438dec4f03af2c93ac67b229fd-0-1\" class=\"displacy-label\" startOffset=\"50%\" side=\"left\" fill=\"currentColor\" text-anchor=\"middle\">det</textPath>\n",
              "    </text>\n",
              "    <path class=\"displacy-arrowhead\" d=\"M300,234.0 L292,222.0 308,222.0\" fill=\"currentColor\"/>\n",
              "</g>\n",
              "\n",
              "<g class=\"displacy-arrow\">\n",
              "    <path class=\"displacy-arc\" id=\"arrow-9861c2438dec4f03af2c93ac67b229fd-0-2\" stroke-width=\"2px\" d=\"M185,232.0 C185,117.0 385.0,117.0 385.0,232.0\" fill=\"none\" stroke=\"currentColor\"/>\n",
              "    <text dy=\"1.25em\" style=\"font-size: 0.8em; letter-spacing: 1px\">\n",
              "        <textPath xlink:href=\"#arrow-9861c2438dec4f03af2c93ac67b229fd-0-2\" class=\"displacy-label\" startOffset=\"50%\" side=\"left\" fill=\"currentColor\" text-anchor=\"middle\">dobj</textPath>\n",
              "    </text>\n",
              "    <path class=\"displacy-arrowhead\" d=\"M385.0,234.0 L393.0,222.0 377.0,222.0\" fill=\"currentColor\"/>\n",
              "</g>\n",
              "\n",
              "<g class=\"displacy-arrow\">\n",
              "    <path class=\"displacy-arc\" id=\"arrow-9861c2438dec4f03af2c93ac67b229fd-0-3\" stroke-width=\"2px\" d=\"M415,232.0 C415,174.5 495.0,174.5 495.0,232.0\" fill=\"none\" stroke=\"currentColor\"/>\n",
              "    <text dy=\"1.25em\" style=\"font-size: 0.8em; letter-spacing: 1px\">\n",
              "        <textPath xlink:href=\"#arrow-9861c2438dec4f03af2c93ac67b229fd-0-3\" class=\"displacy-label\" startOffset=\"50%\" side=\"left\" fill=\"currentColor\" text-anchor=\"middle\">prep</textPath>\n",
              "    </text>\n",
              "    <path class=\"displacy-arrowhead\" d=\"M495.0,234.0 L503.0,222.0 487.0,222.0\" fill=\"currentColor\"/>\n",
              "</g>\n",
              "\n",
              "<g class=\"displacy-arrow\">\n",
              "    <path class=\"displacy-arc\" id=\"arrow-9861c2438dec4f03af2c93ac67b229fd-0-4\" stroke-width=\"2px\" d=\"M530,232.0 C530,174.5 610.0,174.5 610.0,232.0\" fill=\"none\" stroke=\"currentColor\"/>\n",
              "    <text dy=\"1.25em\" style=\"font-size: 0.8em; letter-spacing: 1px\">\n",
              "        <textPath xlink:href=\"#arrow-9861c2438dec4f03af2c93ac67b229fd-0-4\" class=\"displacy-label\" startOffset=\"50%\" side=\"left\" fill=\"currentColor\" text-anchor=\"middle\">pobj</textPath>\n",
              "    </text>\n",
              "    <path class=\"displacy-arrowhead\" d=\"M610.0,234.0 L618.0,222.0 602.0,222.0\" fill=\"currentColor\"/>\n",
              "</g>\n",
              "\n",
              "<g class=\"displacy-arrow\">\n",
              "    <path class=\"displacy-arc\" id=\"arrow-9861c2438dec4f03af2c93ac67b229fd-0-5\" stroke-width=\"2px\" d=\"M645,232.0 C645,174.5 725.0,174.5 725.0,232.0\" fill=\"none\" stroke=\"currentColor\"/>\n",
              "    <text dy=\"1.25em\" style=\"font-size: 0.8em; letter-spacing: 1px\">\n",
              "        <textPath xlink:href=\"#arrow-9861c2438dec4f03af2c93ac67b229fd-0-5\" class=\"displacy-label\" startOffset=\"50%\" side=\"left\" fill=\"currentColor\" text-anchor=\"middle\">prep</textPath>\n",
              "    </text>\n",
              "    <path class=\"displacy-arrowhead\" d=\"M725.0,234.0 L733.0,222.0 717.0,222.0\" fill=\"currentColor\"/>\n",
              "</g>\n",
              "\n",
              "<g class=\"displacy-arrow\">\n",
              "    <path class=\"displacy-arc\" id=\"arrow-9861c2438dec4f03af2c93ac67b229fd-0-6\" stroke-width=\"2px\" d=\"M875,232.0 C875,59.5 1195.0,59.5 1195.0,232.0\" fill=\"none\" stroke=\"currentColor\"/>\n",
              "    <text dy=\"1.25em\" style=\"font-size: 0.8em; letter-spacing: 1px\">\n",
              "        <textPath xlink:href=\"#arrow-9861c2438dec4f03af2c93ac67b229fd-0-6\" class=\"displacy-label\" startOffset=\"50%\" side=\"left\" fill=\"currentColor\" text-anchor=\"middle\">det</textPath>\n",
              "    </text>\n",
              "    <path class=\"displacy-arrowhead\" d=\"M875,234.0 L867,222.0 883,222.0\" fill=\"currentColor\"/>\n",
              "</g>\n",
              "\n",
              "<g class=\"displacy-arrow\">\n",
              "    <path class=\"displacy-arc\" id=\"arrow-9861c2438dec4f03af2c93ac67b229fd-0-7\" stroke-width=\"2px\" d=\"M990,232.0 C990,117.0 1190.0,117.0 1190.0,232.0\" fill=\"none\" stroke=\"currentColor\"/>\n",
              "    <text dy=\"1.25em\" style=\"font-size: 0.8em; letter-spacing: 1px\">\n",
              "        <textPath xlink:href=\"#arrow-9861c2438dec4f03af2c93ac67b229fd-0-7\" class=\"displacy-label\" startOffset=\"50%\" side=\"left\" fill=\"currentColor\" text-anchor=\"middle\">amod</textPath>\n",
              "    </text>\n",
              "    <path class=\"displacy-arrowhead\" d=\"M990,234.0 L982,222.0 998,222.0\" fill=\"currentColor\"/>\n",
              "</g>\n",
              "\n",
              "<g class=\"displacy-arrow\">\n",
              "    <path class=\"displacy-arc\" id=\"arrow-9861c2438dec4f03af2c93ac67b229fd-0-8\" stroke-width=\"2px\" d=\"M1105,232.0 C1105,174.5 1185.0,174.5 1185.0,232.0\" fill=\"none\" stroke=\"currentColor\"/>\n",
              "    <text dy=\"1.25em\" style=\"font-size: 0.8em; letter-spacing: 1px\">\n",
              "        <textPath xlink:href=\"#arrow-9861c2438dec4f03af2c93ac67b229fd-0-8\" class=\"displacy-label\" startOffset=\"50%\" side=\"left\" fill=\"currentColor\" text-anchor=\"middle\">compound</textPath>\n",
              "    </text>\n",
              "    <path class=\"displacy-arrowhead\" d=\"M1105,234.0 L1097,222.0 1113,222.0\" fill=\"currentColor\"/>\n",
              "</g>\n",
              "\n",
              "<g class=\"displacy-arrow\">\n",
              "    <path class=\"displacy-arc\" id=\"arrow-9861c2438dec4f03af2c93ac67b229fd-0-9\" stroke-width=\"2px\" d=\"M760,232.0 C760,2.0 1200.0,2.0 1200.0,232.0\" fill=\"none\" stroke=\"currentColor\"/>\n",
              "    <text dy=\"1.25em\" style=\"font-size: 0.8em; letter-spacing: 1px\">\n",
              "        <textPath xlink:href=\"#arrow-9861c2438dec4f03af2c93ac67b229fd-0-9\" class=\"displacy-label\" startOffset=\"50%\" side=\"left\" fill=\"currentColor\" text-anchor=\"middle\">pobj</textPath>\n",
              "    </text>\n",
              "    <path class=\"displacy-arrowhead\" d=\"M1200.0,234.0 L1208.0,222.0 1192.0,222.0\" fill=\"currentColor\"/>\n",
              "</g>\n",
              "</svg></span>"
            ],
            "text/plain": [
              "<IPython.core.display.HTML object>"
            ]
          },
          "metadata": {
            "tags": []
          }
        },
        {
          "output_type": "display_data",
          "data": {
            "text/html": [
              "<span class=\"tex2jax_ignore\"><svg xmlns=\"http://www.w3.org/2000/svg\" xmlns:xlink=\"http://www.w3.org/1999/xlink\" xml:lang=\"en\" id=\"826edf0c2fb946879dba929813371503-0\" class=\"displacy\" width=\"970\" height=\"367.0\" direction=\"ltr\" style=\"max-width: none; height: 367.0px; color: #000000; background: #ffffff; font-family: Arial; direction: ltr\">\n",
              "<text class=\"displacy-token\" fill=\"currentColor\" text-anchor=\"middle\" y=\"277.0\">\n",
              "    <tspan class=\"displacy-word\" fill=\"currentColor\" x=\"50\">To</tspan>\n",
              "    <tspan class=\"displacy-tag\" dy=\"2em\" fill=\"currentColor\" x=\"50\">PART</tspan>\n",
              "</text>\n",
              "\n",
              "<text class=\"displacy-token\" fill=\"currentColor\" text-anchor=\"middle\" y=\"277.0\">\n",
              "    <tspan class=\"displacy-word\" fill=\"currentColor\" x=\"165\">simulate</tspan>\n",
              "    <tspan class=\"displacy-tag\" dy=\"2em\" fill=\"currentColor\" x=\"165\">VERB</tspan>\n",
              "</text>\n",
              "\n",
              "<text class=\"displacy-token\" fill=\"currentColor\" text-anchor=\"middle\" y=\"277.0\">\n",
              "    <tspan class=\"displacy-word\" fill=\"currentColor\" x=\"280\">portions</tspan>\n",
              "    <tspan class=\"displacy-tag\" dy=\"2em\" fill=\"currentColor\" x=\"280\">NOUN</tspan>\n",
              "</text>\n",
              "\n",
              "<text class=\"displacy-token\" fill=\"currentColor\" text-anchor=\"middle\" y=\"277.0\">\n",
              "    <tspan class=\"displacy-word\" fill=\"currentColor\" x=\"395\">of</tspan>\n",
              "    <tspan class=\"displacy-tag\" dy=\"2em\" fill=\"currentColor\" x=\"395\">ADP</tspan>\n",
              "</text>\n",
              "\n",
              "<text class=\"displacy-token\" fill=\"currentColor\" text-anchor=\"middle\" y=\"277.0\">\n",
              "    <tspan class=\"displacy-word\" fill=\"currentColor\" x=\"510\">the</tspan>\n",
              "    <tspan class=\"displacy-tag\" dy=\"2em\" fill=\"currentColor\" x=\"510\">DET</tspan>\n",
              "</text>\n",
              "\n",
              "<text class=\"displacy-token\" fill=\"currentColor\" text-anchor=\"middle\" y=\"277.0\">\n",
              "    <tspan class=\"displacy-word\" fill=\"currentColor\" x=\"625\">desired</tspan>\n",
              "    <tspan class=\"displacy-tag\" dy=\"2em\" fill=\"currentColor\" x=\"625\">VERB</tspan>\n",
              "</text>\n",
              "\n",
              "<text class=\"displacy-token\" fill=\"currentColor\" text-anchor=\"middle\" y=\"277.0\">\n",
              "    <tspan class=\"displacy-word\" fill=\"currentColor\" x=\"740\">final</tspan>\n",
              "    <tspan class=\"displacy-tag\" dy=\"2em\" fill=\"currentColor\" x=\"740\">ADJ</tspan>\n",
              "</text>\n",
              "\n",
              "<text class=\"displacy-token\" fill=\"currentColor\" text-anchor=\"middle\" y=\"277.0\">\n",
              "    <tspan class=\"displacy-word\" fill=\"currentColor\" x=\"855\">product</tspan>\n",
              "    <tspan class=\"displacy-tag\" dy=\"2em\" fill=\"currentColor\" x=\"855\">NOUN</tspan>\n",
              "</text>\n",
              "\n",
              "<g class=\"displacy-arrow\">\n",
              "    <path class=\"displacy-arc\" id=\"arrow-826edf0c2fb946879dba929813371503-0-0\" stroke-width=\"2px\" d=\"M70,232.0 C70,174.5 150.0,174.5 150.0,232.0\" fill=\"none\" stroke=\"currentColor\"/>\n",
              "    <text dy=\"1.25em\" style=\"font-size: 0.8em; letter-spacing: 1px\">\n",
              "        <textPath xlink:href=\"#arrow-826edf0c2fb946879dba929813371503-0-0\" class=\"displacy-label\" startOffset=\"50%\" side=\"left\" fill=\"currentColor\" text-anchor=\"middle\">aux</textPath>\n",
              "    </text>\n",
              "    <path class=\"displacy-arrowhead\" d=\"M70,234.0 L62,222.0 78,222.0\" fill=\"currentColor\"/>\n",
              "</g>\n",
              "\n",
              "<g class=\"displacy-arrow\">\n",
              "    <path class=\"displacy-arc\" id=\"arrow-826edf0c2fb946879dba929813371503-0-1\" stroke-width=\"2px\" d=\"M185,232.0 C185,174.5 265.0,174.5 265.0,232.0\" fill=\"none\" stroke=\"currentColor\"/>\n",
              "    <text dy=\"1.25em\" style=\"font-size: 0.8em; letter-spacing: 1px\">\n",
              "        <textPath xlink:href=\"#arrow-826edf0c2fb946879dba929813371503-0-1\" class=\"displacy-label\" startOffset=\"50%\" side=\"left\" fill=\"currentColor\" text-anchor=\"middle\">dobj</textPath>\n",
              "    </text>\n",
              "    <path class=\"displacy-arrowhead\" d=\"M265.0,234.0 L273.0,222.0 257.0,222.0\" fill=\"currentColor\"/>\n",
              "</g>\n",
              "\n",
              "<g class=\"displacy-arrow\">\n",
              "    <path class=\"displacy-arc\" id=\"arrow-826edf0c2fb946879dba929813371503-0-2\" stroke-width=\"2px\" d=\"M300,232.0 C300,174.5 380.0,174.5 380.0,232.0\" fill=\"none\" stroke=\"currentColor\"/>\n",
              "    <text dy=\"1.25em\" style=\"font-size: 0.8em; letter-spacing: 1px\">\n",
              "        <textPath xlink:href=\"#arrow-826edf0c2fb946879dba929813371503-0-2\" class=\"displacy-label\" startOffset=\"50%\" side=\"left\" fill=\"currentColor\" text-anchor=\"middle\">prep</textPath>\n",
              "    </text>\n",
              "    <path class=\"displacy-arrowhead\" d=\"M380.0,234.0 L388.0,222.0 372.0,222.0\" fill=\"currentColor\"/>\n",
              "</g>\n",
              "\n",
              "<g class=\"displacy-arrow\">\n",
              "    <path class=\"displacy-arc\" id=\"arrow-826edf0c2fb946879dba929813371503-0-3\" stroke-width=\"2px\" d=\"M530,232.0 C530,59.5 850.0,59.5 850.0,232.0\" fill=\"none\" stroke=\"currentColor\"/>\n",
              "    <text dy=\"1.25em\" style=\"font-size: 0.8em; letter-spacing: 1px\">\n",
              "        <textPath xlink:href=\"#arrow-826edf0c2fb946879dba929813371503-0-3\" class=\"displacy-label\" startOffset=\"50%\" side=\"left\" fill=\"currentColor\" text-anchor=\"middle\">det</textPath>\n",
              "    </text>\n",
              "    <path class=\"displacy-arrowhead\" d=\"M530,234.0 L522,222.0 538,222.0\" fill=\"currentColor\"/>\n",
              "</g>\n",
              "\n",
              "<g class=\"displacy-arrow\">\n",
              "    <path class=\"displacy-arc\" id=\"arrow-826edf0c2fb946879dba929813371503-0-4\" stroke-width=\"2px\" d=\"M645,232.0 C645,117.0 845.0,117.0 845.0,232.0\" fill=\"none\" stroke=\"currentColor\"/>\n",
              "    <text dy=\"1.25em\" style=\"font-size: 0.8em; letter-spacing: 1px\">\n",
              "        <textPath xlink:href=\"#arrow-826edf0c2fb946879dba929813371503-0-4\" class=\"displacy-label\" startOffset=\"50%\" side=\"left\" fill=\"currentColor\" text-anchor=\"middle\">amod</textPath>\n",
              "    </text>\n",
              "    <path class=\"displacy-arrowhead\" d=\"M645,234.0 L637,222.0 653,222.0\" fill=\"currentColor\"/>\n",
              "</g>\n",
              "\n",
              "<g class=\"displacy-arrow\">\n",
              "    <path class=\"displacy-arc\" id=\"arrow-826edf0c2fb946879dba929813371503-0-5\" stroke-width=\"2px\" d=\"M760,232.0 C760,174.5 840.0,174.5 840.0,232.0\" fill=\"none\" stroke=\"currentColor\"/>\n",
              "    <text dy=\"1.25em\" style=\"font-size: 0.8em; letter-spacing: 1px\">\n",
              "        <textPath xlink:href=\"#arrow-826edf0c2fb946879dba929813371503-0-5\" class=\"displacy-label\" startOffset=\"50%\" side=\"left\" fill=\"currentColor\" text-anchor=\"middle\">amod</textPath>\n",
              "    </text>\n",
              "    <path class=\"displacy-arrowhead\" d=\"M760,234.0 L752,222.0 768,222.0\" fill=\"currentColor\"/>\n",
              "</g>\n",
              "\n",
              "<g class=\"displacy-arrow\">\n",
              "    <path class=\"displacy-arc\" id=\"arrow-826edf0c2fb946879dba929813371503-0-6\" stroke-width=\"2px\" d=\"M415,232.0 C415,2.0 855.0,2.0 855.0,232.0\" fill=\"none\" stroke=\"currentColor\"/>\n",
              "    <text dy=\"1.25em\" style=\"font-size: 0.8em; letter-spacing: 1px\">\n",
              "        <textPath xlink:href=\"#arrow-826edf0c2fb946879dba929813371503-0-6\" class=\"displacy-label\" startOffset=\"50%\" side=\"left\" fill=\"currentColor\" text-anchor=\"middle\">pobj</textPath>\n",
              "    </text>\n",
              "    <path class=\"displacy-arrowhead\" d=\"M855.0,234.0 L863.0,222.0 847.0,222.0\" fill=\"currentColor\"/>\n",
              "</g>\n",
              "</svg></span>"
            ],
            "text/plain": [
              "<IPython.core.display.HTML object>"
            ]
          },
          "metadata": {
            "tags": []
          }
        }
      ]
    },
    {
      "cell_type": "code",
      "metadata": {
        "id": "24TQPcW3NT8N",
        "colab_type": "code",
        "colab": {
          "base_uri": "https://localhost:8080/"
        },
        "outputId": "5ad0bc25-d79e-47d7-cb9a-ffa1a2f9c77b"
      },
      "source": [
        "for token in doc1:\n",
        "    print(\"{2}({3}-{6}, {0}-{5})\".format(token.text, token.tag_, token.dep_, token.head.text, token.head.tag_, token.i+1, token.head.i+1))"
      ],
      "execution_count": null,
      "outputs": [
        {
          "output_type": "stream",
          "text": [
            "aux(simulate-2, To-1)\n",
            "ROOT(simulate-2, simulate-2)\n",
            "det(behaviour-4, the-3)\n",
            "dobj(simulate-2, behaviour-4)\n",
            "prep(behaviour-4, of-5)\n",
            "pobj(of-5, portions-6)\n",
            "prep(portions-6, of-7)\n",
            "det(product-11, the-8)\n",
            "amod(product-11, desired-9)\n",
            "compound(product-11, software-10)\n",
            "pobj(of-7, product-11)\n"
          ],
          "name": "stdout"
        }
      ]
    },
    {
      "cell_type": "code",
      "metadata": {
        "id": "oJNbH7McOzye",
        "colab_type": "code",
        "colab": {
          "base_uri": "https://localhost:8080/"
        },
        "outputId": "a9f14f01-417f-4dfd-c48b-77b6cdf12e80"
      },
      "source": [
        "for token in doc2:\n",
        "    print(\"{2}({3}-{6}, {0}-{5})\".format(token.text, token.tag_, token.dep_, token.head.text, token.head.tag_, token.i+1, token.head.i+1))"
      ],
      "execution_count": null,
      "outputs": [
        {
          "output_type": "stream",
          "text": [
            "aux(simulate-2, To-1)\n",
            "ROOT(simulate-2, simulate-2)\n",
            "dobj(simulate-2, portions-3)\n",
            "prep(portions-3, of-4)\n",
            "det(product-8, the-5)\n",
            "amod(product-8, desired-6)\n",
            "amod(product-8, final-7)\n",
            "pobj(of-4, product-8)\n"
          ],
          "name": "stdout"
        }
      ]
    },
    {
      "cell_type": "code",
      "metadata": {
        "id": "uKSBxG1IpgaB",
        "colab_type": "code",
        "colab": {
          "base_uri": "https://localhost:8080/"
        },
        "outputId": "1159dc28-2ed7-42bc-ae35-9113df256577"
      },
      "source": [
        "for token in doc1:\n",
        "  print(\"{0}-{1}\".format(token.text, token.tag_))"
      ],
      "execution_count": null,
      "outputs": [
        {
          "output_type": "stream",
          "text": [
            "To-TO\n",
            "simulate-VB\n",
            "the-DT\n",
            "behaviour-NN\n",
            "of-IN\n",
            "portions-NNS\n",
            "of-IN\n",
            "the-DT\n",
            "desired-VBN\n",
            "software-NN\n",
            "product-NN\n"
          ],
          "name": "stdout"
        }
      ]
    },
    {
      "cell_type": "code",
      "metadata": {
        "id": "DKenUWKmpjuo",
        "colab_type": "code",
        "colab": {
          "base_uri": "https://localhost:8080/"
        },
        "outputId": "9f573073-e4fe-4ea2-f199-8435dbfa721f"
      },
      "source": [
        "for token in doc2:\n",
        "  print(\"{0}-{1}\".format(token.text, token.tag_))"
      ],
      "execution_count": null,
      "outputs": [
        {
          "output_type": "stream",
          "text": [
            "To-TO\n",
            "simulate-VB\n",
            "portions-NNS\n",
            "of-IN\n",
            "the-DT\n",
            "desired-VBN\n",
            "final-JJ\n",
            "product-NN\n"
          ],
          "name": "stdout"
        }
      ]
    },
    {
      "cell_type": "markdown",
      "metadata": {
        "id": "FEdMTXMXldrW",
        "colab_type": "text"
      },
      "source": [
        "## **Checking Word Order**"
      ]
    },
    {
      "cell_type": "code",
      "metadata": {
        "id": "cloAY9VseWmD",
        "colab_type": "code",
        "colab": {
          "base_uri": "https://localhost:8080/",
          "height": 34
        },
        "outputId": "f9978163-0924-4f49-a894-04fd88a0ee00"
      },
      "source": [
        "is_doc1_passive = 0\n",
        "is_doc2_passive = 0\n",
        "\n",
        "from spacy.matcher import Matcher\n",
        "matcher = Matcher(nlp.vocab)\n",
        "\n",
        "pattern1 = [{\"DEP\": \"nsubjpass\"}]\n",
        "matcher.add(\"IS_PASSIVE_1\", None, pattern1)\n",
        "\n",
        "pattern2 = [{\"DEP\": \"auxpass\"}]\n",
        "matcher.add(\"IS_PASSIVE_2\", None, pattern2)\n",
        "\n",
        "found_1 = matcher(doc1)\n",
        "if found_1:\n",
        "    is_doc1_passive = 1\n",
        "found_2 = matcher(doc2)\n",
        "if found_2:\n",
        "    is_doc2_passive = 1\n",
        "\n",
        "is_passive = is_doc1_passive ^ is_doc2_passive\n",
        "print(is_passive)"
      ],
      "execution_count": null,
      "outputs": [
        {
          "output_type": "stream",
          "text": [
            "0\n"
          ],
          "name": "stdout"
        }
      ]
    },
    {
      "cell_type": "code",
      "metadata": {
        "id": "0iBoy6doMxZs",
        "colab_type": "code",
        "colab": {}
      },
      "source": [
        "matcher.remove(\"IS_PASSIVE_1\")\n",
        "matcher.remove(\"IS_PASSIVE_2\")"
      ],
      "execution_count": null,
      "outputs": []
    },
    {
      "cell_type": "code",
      "metadata": {
        "id": "hRnxUGbsDt51",
        "colab_type": "code",
        "colab": {
          "base_uri": "https://localhost:8080/",
          "height": 34
        },
        "outputId": "0ae6d425-60a0-47d8-a8bd-deffb507e41a"
      },
      "source": [
        "is_doc1_negative = 0\n",
        "is_doc2_negative = 0\n",
        "\n",
        "pattern3 = [{\"DEP\": \"neg\"}]\n",
        "matcher.add(\"IS_NEGATIVE\", None, pattern3)\n",
        "found_3 = matcher(doc1)\n",
        "if found_3:\n",
        "    is_doc1_negative = 1\n",
        "found_4 = matcher(doc2)\n",
        "if found_4:\n",
        "    is_doc2_negative = 1\n",
        "\n",
        "is_negative = is_doc1_negative ^ is_doc2_negative\n",
        "print(is_negative)"
      ],
      "execution_count": null,
      "outputs": [
        {
          "output_type": "stream",
          "text": [
            "0\n"
          ],
          "name": "stdout"
        }
      ]
    },
    {
      "cell_type": "code",
      "metadata": {
        "id": "IU6lZebqoAYN",
        "colab_type": "code",
        "colab": {
          "base_uri": "https://localhost:8080/",
          "height": 51
        },
        "outputId": "b3fc432b-c512-4c15-8571-4d884942731d"
      },
      "source": [
        "e_similarities = {}\n",
        "for token in doc1_p:\n",
        "    token_dep = token.dep_\n",
        "    match_dep = matches[token].dep_\n",
        "    token_head = token.head\n",
        "    match_head = matches[token].head\n",
        "    weight = 1\n",
        "\n",
        "    if token_dep == \"conj\" and match_dep == \"conj\":\n",
        "        count_t_position = 0\n",
        "        count_m_position = 0\n",
        "        while token_head.dep_ == \"conj\":\n",
        "            token_head = token_head.head\n",
        "            count_t_position += 1\n",
        "        while match_head.dep_ == \"conj\":\n",
        "            match_head = match_head.head\n",
        "            count_m_position += 1\n",
        "        if count_t_position == count_m_position:\n",
        "            weight = 1\n",
        "        else:\n",
        "            weight = 0.9\n",
        "\n",
        "\n",
        "    elif match_dep == \"conj\":\n",
        "        while match_head.dep_ == \"conj\":\n",
        "            match_head = match_head.head\n",
        "        if token_dep == match_head.dep_:\n",
        "            weight = 0.9\n",
        "        else:\n",
        "            weight = 0\n",
        "\n",
        "\n",
        "    elif token_dep == \"conj\":\n",
        "        while token_head.dep_ == \"conj\":\n",
        "            token_head = token_head.head\n",
        "        if match_dep == token_head.dep_:\n",
        "            weight = 0.9\n",
        "        else:\n",
        "            weight = 0\n",
        "\n",
        "\n",
        "    elif token_dep == \"ROOT\":\n",
        "        if match_dep == \"ROOT\":\n",
        "            weight = 1\n",
        "        else:\n",
        "            weight = 0\n",
        "\n",
        "\n",
        "    elif token_dep == \"nsubj\":\n",
        "        if is_passive:\n",
        "            if match_dep == \"dobj\":\n",
        "                weight = 1\n",
        "            elif match_dep == \"pobj\":\n",
        "                weight = 1\n",
        "            else:\n",
        "                weight = 0\n",
        "        else:\n",
        "            if match_dep == \"nsubj\":\n",
        "                weight = 1\n",
        "            else:\n",
        "                weight = 0\n",
        "\n",
        "\n",
        "    elif token_dep == \"nsubjpass\":\n",
        "        if is_passive:\n",
        "            if match_dep == \"dobj\":\n",
        "                weight = 1\n",
        "            else:\n",
        "                weight = 0\n",
        "        else:\n",
        "            if match_dep == \"nsubjpass\":\n",
        "                weight = 1\n",
        "            else:\n",
        "                weight = 0\n",
        "\n",
        "\n",
        "    elif token_dep == \"dobj\":\n",
        "        if is_passive:\n",
        "            if match_dep == \"dobj\":\n",
        "                weight = 1\n",
        "            elif match_dep == \"nsubjpass\":\n",
        "                weight = 1\n",
        "            elif match_dep == \"nsubj\":\n",
        "                weight = 1\n",
        "            else:\n",
        "                weight = 0\n",
        "        else:\n",
        "            if match_dep == \"dobj\":\n",
        "                weight = 1\n",
        "            elif match_dep == \"pobj\":\n",
        "                weight = 0.8\n",
        "            else:\n",
        "                weight = 0\n",
        "\n",
        "\n",
        "    elif token_dep == \"pobj\":\n",
        "        if is_passive:\n",
        "            if match_dep == \"nsubj\":\n",
        "                weight = 1\n",
        "            elif is_doc1_passive:\n",
        "                if token.head.dep_ != \"agent\":\n",
        "                    if match_dep == \"pobj\":\n",
        "                        weight = 1\n",
        "            elif is_doc2_passive:\n",
        "                if matches[token].head.dep_ != \"agent\":\n",
        "                    if match_dep == \"pobj\":\n",
        "                        weight = 1\n",
        "            else:\n",
        "                weight = 0\n",
        "        else:\n",
        "            if match_dep == \"pobj\":\n",
        "                weight = 1\n",
        "            elif match_dep == \"dobj\":\n",
        "                weight = 0.8\n",
        "            else:\n",
        "                weight = 0\n",
        "\n",
        "\n",
        "\n",
        "\n",
        "    e_similarities[token] = weight\n",
        "\n",
        "e_score = sum(e_similarities.values()) / len(e_similarities)\n",
        "if is_negative:\n",
        "    e_score = 0.2\n",
        "score = v_score * e_score\n",
        "print(score)\n",
        "#print(e_score)\n",
        "print(e_similarities)"
      ],
      "execution_count": null,
      "outputs": [
        {
          "output_type": "stream",
          "text": [
            "0.6401728588077857\n",
            "{simulate: 1, behaviour: 0, portions: 0.8, desired: 1, software: 1, product: 1}\n"
          ],
          "name": "stdout"
        }
      ]
    },
    {
      "cell_type": "code",
      "metadata": {
        "id": "iqyQKSDUURya",
        "colab_type": "code",
        "colab": {}
      },
      "source": [
        ""
      ],
      "execution_count": null,
      "outputs": []
    }
  ]
}